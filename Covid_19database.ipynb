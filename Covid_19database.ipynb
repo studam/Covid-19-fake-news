{
  "nbformat": 4,
  "nbformat_minor": 0,
  "metadata": {
    "colab": {
      "name": "Covid-19database.ipynb",
      "provenance": [],
      "collapsed_sections": [],
      "include_colab_link": true
    },
    "kernelspec": {
      "name": "python3",
      "display_name": "Python 3"
    },
    "language_info": {
      "name": "python"
    }
  },
  "cells": [
    {
      "cell_type": "markdown",
      "metadata": {
        "id": "view-in-github",
        "colab_type": "text"
      },
      "source": [
        "<a href=\"https://colab.research.google.com/github/studam/Covid-19-fake-news/blob/main/Covid_19database.ipynb\" target=\"_parent\"><img src=\"https://colab.research.google.com/assets/colab-badge.svg\" alt=\"Open In Colab\"/></a>"
      ]
    },
    {
      "cell_type": "code",
      "execution_count": 36,
      "metadata": {
        "colab": {
          "base_uri": "https://localhost:8080/"
        },
        "id": "qGuFxE-Boadm",
        "outputId": "31f15bcc-9547-47b4-f4b2-157079f7bc26"
      },
      "outputs": [
        {
          "output_type": "stream",
          "name": "stdout",
          "text": [
            "\r0% [Working]\r            \rHit:1 https://developer.download.nvidia.com/compute/cuda/repos/ubuntu1804/x86_64  InRelease\n",
            "\r0% [Connecting to archive.ubuntu.com (185.125.190.39)] [Connecting to security.\r0% [1 InRelease gpgv 1,575 B] [Connecting to archive.ubuntu.com (185.125.190.39\r                                                                               \rIgn:2 https://developer.download.nvidia.com/compute/machine-learning/repos/ubuntu1804/x86_64  InRelease\n",
            "\r0% [1 InRelease gpgv 1,575 B] [Connecting to archive.ubuntu.com (185.125.190.39\r                                                                               \rHit:3 https://developer.download.nvidia.com/compute/machine-learning/repos/ubuntu1804/x86_64  Release\n",
            "\r0% [1 InRelease gpgv 1,575 B] [Connecting to archive.ubuntu.com (185.125.190.39\r                                                                               \rHit:4 https://cloud.r-project.org/bin/linux/ubuntu bionic-cran40/ InRelease\n",
            "Get:5 http://security.ubuntu.com/ubuntu bionic-security InRelease [88.7 kB]\n",
            "Hit:6 http://archive.ubuntu.com/ubuntu bionic InRelease\n",
            "Hit:8 http://ppa.launchpad.net/c2d4u.team/c2d4u4.0+/ubuntu bionic InRelease\n",
            "Get:9 http://archive.ubuntu.com/ubuntu bionic-updates InRelease [88.7 kB]\n",
            "Hit:10 http://ppa.launchpad.net/cran/libgit2/ubuntu bionic InRelease\n",
            "Get:11 http://archive.ubuntu.com/ubuntu bionic-backports InRelease [74.6 kB]\n",
            "Hit:12 http://ppa.launchpad.net/deadsnakes/ppa/ubuntu bionic InRelease\n",
            "Hit:13 http://ppa.launchpad.net/graphics-drivers/ppa/ubuntu bionic InRelease\n",
            "Fetched 252 kB in 2s (112 kB/s)\n",
            "Reading package lists... Done\n"
          ]
        }
      ],
      "source": [
        "import os\n",
        "# Find the latest version of spark 3.0  from http://www-us.apache.org/dist/spark/ and enter as the spark version\n",
        "# For example:\n",
        "spark_version = 'spark-3.2.1'\n",
        "os.environ['SPARK_VERSION']=spark_version\n",
        "# Install Spark and Java\n",
        "!apt-get update\n",
        "!apt-get install openjdk-11-jdk-headless -qq > /dev/null\n",
        "!wget -q https://dlcdn.apache.org/spark/$SPARK_VERSION/$SPARK_VERSION-bin-hadoop3.2.tgz\n",
        "!tar xf $SPARK_VERSION-bin-hadoop3.2.tgz\n",
        "!pip install -q findspark\n",
        "# Set Environment Variables\n",
        "import os\n",
        "os.environ[\"JAVA_HOME\"] = \"/usr/lib/jvm/java-11-openjdk-amd64\"\n",
        "os.environ[\"SPARK_HOME\"] = f\"/content/{spark_version}-bin-hadoop3.2\"\n",
        "# Start a SparkSession\n",
        "import findspark\n",
        "findspark.init()"
      ]
    },
    {
      "cell_type": "code",
      "source": [
        "!wget https://jdbc.postgresql.org/download/postgresql-42.2.9.jar"
      ],
      "metadata": {
        "colab": {
          "base_uri": "https://localhost:8080/"
        },
        "id": "-IxXJ0EFf5ai",
        "outputId": "3b87e01f-070e-49ed-9655-61fb0918486f"
      },
      "execution_count": 37,
      "outputs": [
        {
          "output_type": "stream",
          "name": "stdout",
          "text": [
            "--2022-05-06 08:00:11--  https://jdbc.postgresql.org/download/postgresql-42.2.9.jar\n",
            "Resolving jdbc.postgresql.org (jdbc.postgresql.org)... 72.32.157.228, 2001:4800:3e1:1::228\n",
            "Connecting to jdbc.postgresql.org (jdbc.postgresql.org)|72.32.157.228|:443... connected.\n",
            "HTTP request sent, awaiting response... 200 OK\n",
            "Length: 914037 (893K) [application/java-archive]\n",
            "Saving to: ‘postgresql-42.2.9.jar.1’\n",
            "\n",
            "postgresql-42.2.9.j 100%[===================>] 892.61K  5.52MB/s    in 0.2s    \n",
            "\n",
            "2022-05-06 08:00:11 (5.52 MB/s) - ‘postgresql-42.2.9.jar.1’ saved [914037/914037]\n",
            "\n"
          ]
        }
      ]
    },
    {
      "cell_type": "code",
      "source": [
        "import pandas as pd"
      ],
      "metadata": {
        "id": "oKu2XFbvKO1e"
      },
      "execution_count": 39,
      "outputs": []
    },
    {
      "cell_type": "code",
      "source": [
        "from pyspark.sql import SparkSession\n",
        "spark = SparkSession.builder.appName(\"Covid-19database\").config(\"spark.driver.extraClassPath\",\"/content/postgresql-42.2.9.jar\").getOrCreate()"
      ],
      "metadata": {
        "id": "R1swXdv1gzpI"
      },
      "execution_count": 40,
      "outputs": []
    },
    {
      "cell_type": "code",
      "source": [
        "from pyspark import SparkFiles\n",
        "url =\"https://covid19needed.s3.eu-west-2.amazonaws.com/fakenNews.csv\"\n",
        "spark.sparkContext.addFile(url)\n",
        "fake = spark.read.csv(SparkFiles.get(\"fakeNews.csv\"), sep=\",\", header=True)\n",
        "# Show DataFrame\n",
        "fake.show()"
      ],
      "metadata": {
        "colab": {
          "base_uri": "https://localhost:8080/"
        },
        "id": "7hPR3-2qYEhb",
        "outputId": "8393943b-4520-4604-8e17-5c36320131ed"
      },
      "execution_count": 46,
      "outputs": [
        {
          "output_type": "stream",
          "name": "stdout",
          "text": [
            "+-----------+--------------------+--------------------+-------------+--------------+--------------------+------------------+--------------------+-----------------+-------------+------------+\n",
            "|Date Posted|                Link|                Text|       Region|       Country|         Explanation|            Origin|          Origin_URL|  Fact_checked_by|Poynter_Label|Binary Label|\n",
            "+-----------+--------------------+--------------------+-------------+--------------+--------------------+------------------+--------------------+-----------------+-------------+------------+\n",
            "|     2/7/20|https://www.poynt...| Tencent revealed...|       Europe|        France| The screenshot i...|           Twitter|https://www.liber...|        CheckNews|   Misleading|           0|\n",
            "|     2/7/20|https://www.poynt...| Taking chlorine ...|       Europe|       Germany| Chlorine dioxide...|           Website|https://correctiv...|        Correctiv|        FALSE|           0|\n",
            "|     2/7/20|https://www.poynt...| This video shows...|        India|         India| A video shows ba...|          Facebook|https://factcheck...|              AFP|   MISLEADING|           0|\n",
            "|     2/7/20|https://www.poynt...| The Asterix comi...|        India|         India| Coronavirus has ...|           Twitter|https://www.booml...|   BOOM FactCheck|   Misleading|           0|\n",
            "|     2/7/20|https://www.poynt...| Chinese Presiden...|        India|         India| Chinese Presiden...|          Facebook|http://newsmobile...|       NewsMobile|        FALSE|           0|\n",
            "|     2/7/20|https://www.poynt...| China seeks cour...|United States| United States| There is no evid...|                ab|https://hoax-aler...|      LeadStories|        FALSE|           0|\n",
            "|     2/8/20|https://www.poynt...| A video shows pe...|        India|         India| The video shows ...|           Twitter|https://www.booml...|   BOOM FactCheck|   Misleading|           0|\n",
            "|     2/8/20|https://www.poynt...| A video says wee...|        India|         India| The news clip wa...| Twitter, WhatsApp|https://www.booml...|   BOOM FactCheck|   Misleading|           0|\n",
            "|     2/8/20|https://www.poynt...| Coronavirus has ...|        India|         India|  The claim is fake.|          Facebook|https://www.vishv...|     Vishvas News|        FALSE|           0|\n",
            "|     2/8/20|https://www.poynt...| In a photo of Pa...|        India|         India| The image was ed...|          Facebook|https://www.vishv...|     Vishvas News|        FALSE|           0|\n",
            "|     2/8/20|https://www.poynt...| Autopsy reveals ...|United States| United States| There is no sour...|                ab|https://hoax-aler...|      LeadStories|        FALSE|           0|\n",
            "|     2/8/20|https://www.poynt...|\" The new coronav...|United States| United States| There is no evid...|          Facebook|https://www.polit...|       PolitiFact|        FALSE|           0|\n",
            "|     2/9/20|https://www.poynt...| Coronavirus is c...|       Europe|     Lithuania| There is no proo...| Facebook, Website|https://www.15min...|         15min.lt|        FALSE|           0|\n",
            "|    2/10/20|https://www.poynt...| Can cannabis cur...|        India|         India| There is no gove...|           Twitter|https://www.newsc...|      Newschecker|   Misleading|           0|\n",
            "|    2/10/20|https://www.poynt...| A woman infected...|        India|         India| The woman in the...|          Facebook|https://www.india...|      India Today| Mostly false|           0|\n",
            "|    2/10/20|https://www.poynt...| Garlic water can...|        India|         India| Garlic may have ...|          Facebook|https://www.vishv...|     Vishvas News|        FALSE|           0|\n",
            "|    2/10/20|https://www.poynt...| Coronavirus is f...|        India|         India| There is no evid...|          Facebook|https://factly.in...|           Factly|        FALSE|           0|\n",
            "|    2/10/20|https://www.poynt...| Bill Gates predi...|       Europe|         Italy| Bill Gates didn'...|          Facebook|https://pagellapo...| Pagella Politica|         Fake|           0|\n",
            "|    2/10/20|https://www.poynt...| Bill Gates predi...|       Europe|         Italy| Bill Gates did n...|          Facebook|https://pagellapo...| Pagella Politica|        FALSE|           0|\n",
            "|    2/10/20|https://www.poynt...| In 2012, a Faceb...|       Europe|         Italy| The Facebook sta...|          Facebook|https://pagellapo...| Pagella Politica|        FALSE|           0|\n",
            "+-----------+--------------------+--------------------+-------------+--------------+--------------------+------------------+--------------------+-----------------+-------------+------------+\n",
            "only showing top 20 rows\n",
            "\n"
          ]
        }
      ]
    },
    {
      "cell_type": "code",
      "source": [
        "from pyspark import SparkFiles\n",
        "url =\"https://covid19needed.s3.eu-west-2.amazonaws.com/true.nNews.csv\"\n",
        "spark.sparkContext.addFile(url)\n",
        "true = spark.read.csv(SparkFiles.get(\"trueNews.csv\"), sep=\",\", header=True)\n",
        "# Show DataFrame\n",
        "true.show()"
      ],
      "metadata": {
        "colab": {
          "base_uri": "https://localhost:8080/"
        },
        "outputId": "6c7d0b78-79f4-47a8-9b03-f0841e4dccac",
        "id": "77mDCzn7ZQMw"
      },
      "execution_count": 47,
      "outputs": [
        {
          "output_type": "stream",
          "name": "stdout",
          "text": [
            "+--------------------+--------------------+--------------------+----------+----------+----------+-----+\n",
            "|         Date Posted|                Link|                Text|    Region|  Username| Publisher|Label|\n",
            "+--------------------+--------------------+--------------------+----------+----------+----------+-----+\n",
            "|             2/11/20|https://twitter.c...|Just in: Novel co...|     India| the_hindu| The Hindu|    1|\n",
            "|             2/12/20|https://twitter.c...|WHO officially na...|      null|      null|      null| null|\n",
            "| https://www.ndtv...|                null|                null|      null|      null|      null| null|\n",
            "|#CoronavirusOutbr...|               India|                ndtv|      NDTV|         1|      null| null|\n",
            "|             2/12/20|https://twitter.c...|\"The #UN #health ...|      null|      null|      null| null|\n",
            "|#coronavirus http...|               India|           the_hindu| The Hindu|         1|      null| null|\n",
            "|             2/14/20|https://twitter.c...|The Indian Embass...|      null|      null|      null| null|\n",
            "| https://www.indi...|               India|          indiatoday|IndiaToday|         1|      null| null|\n",
            "|             2/15/20|https://twitter.c...|Ground Zero | How...|      null|      null|      null| null|\n",
            "|#coronavirus #Ker...|               India|           the_hindu| The Hindu|         1|      null| null|\n",
            "|             2/15/20|https://twitter.c...|An elderly Chines...|      null|      null|      null| null|\n",
            "| https://trib.al/...|               India|           the_hindu| The Hindu|         1|      null| null|\n",
            "|             2/16/20|https://twitter.c...|The total number ...|      null|      null|      null| null|\n",
            "| https://www.indi...|               India|          indiatoday|IndiaToday|         1|      null| null|\n",
            "|             2/16/20|https://twitter.c...|COVID-19 coronavi...|     India|indiatoday|IndiaToday|    1|\n",
            "|             2/17/20|https://twitter.c...|Covid-19 Updates:...|      null|      null|      null| null|\n",
            "|#DIU pic.twitter....|               India|          indiatoday|IndiaToday|         1|      null| null|\n",
            "|             2/18/20|https://twitter.c...|#Coronavirus | #L...|      null|      null|      null| null|\n",
            "| http://bit.ly/37...|               India|           the_hindu| The Hindu|         1|      null| null|\n",
            "|             2/19/20|https://twitter.c...|Serum Institute o...|      null|      null|      null| null|\n",
            "+--------------------+--------------------+--------------------+----------+----------+----------+-----+\n",
            "only showing top 20 rows\n",
            "\n"
          ]
        }
      ]
    },
    {
      "cell_type": "code",
      "source": [
        "# Count rows fake\n",
        "fake.count()"
      ],
      "metadata": {
        "colab": {
          "base_uri": "https://localhost:8080/"
        },
        "id": "RSmEEq0uou6P",
        "outputId": "e325001f-4699-4ad5-de30-1536f18c9b74"
      },
      "execution_count": 48,
      "outputs": [
        {
          "output_type": "execute_result",
          "data": {
            "text/plain": [
              "3796"
            ]
          },
          "metadata": {},
          "execution_count": 48
        }
      ]
    },
    {
      "cell_type": "code",
      "source": [
        "#Count rows true\n",
        "true.count()\n"
      ],
      "metadata": {
        "colab": {
          "base_uri": "https://localhost:8080/"
        },
        "id": "VGvGV8ZyhefJ",
        "outputId": "8531fa5d-bf8a-43d8-a09f-61d371e18151"
      },
      "execution_count": 49,
      "outputs": [
        {
          "output_type": "execute_result",
          "data": {
            "text/plain": [
              "6004"
            ]
          },
          "metadata": {},
          "execution_count": 49
        }
      ]
    },
    {
      "cell_type": "code",
      "source": [
        "# Clean up DataFrames to match tables\n",
        "#pyspark\n",
        "from pyspark.sql.functions import to_date\n",
        "# Review DataFrame\n",
        "review_fake = fake.select([\"Date Posted\", \"Text\", \"Region\", \"Origin\", \"Binary Label\"])\n",
        "#Change column name\n",
        "\n",
        "review_fake.withColumnRenamed(\"Binary Label\",\"Label\").printSchema()"
      ],
      "metadata": {
        "colab": {
          "base_uri": "https://localhost:8080/"
        },
        "id": "te5znja5qMcW",
        "outputId": "6a5ba7c1-8e03-4b77-c650-4c1d74775885"
      },
      "execution_count": 50,
      "outputs": [
        {
          "output_type": "stream",
          "name": "stdout",
          "text": [
            "root\n",
            " |-- Date Posted: string (nullable = true)\n",
            " |-- Text: string (nullable = true)\n",
            " |-- Region: string (nullable = true)\n",
            " |-- Origin: string (nullable = true)\n",
            " |-- Label: string (nullable = true)\n",
            "\n"
          ]
        }
      ]
    },
    {
      "cell_type": "code",
      "source": [
        "review_fake.show()"
      ],
      "metadata": {
        "colab": {
          "base_uri": "https://localhost:8080/"
        },
        "id": "ZkWpUJOxWesl",
        "outputId": "3075b3fe-4da4-4f0b-ce0b-c2fd1377237f"
      },
      "execution_count": 51,
      "outputs": [
        {
          "output_type": "stream",
          "name": "stdout",
          "text": [
            "+-----------+--------------------+-------------+------------------+------------+\n",
            "|Date Posted|                Text|       Region|            Origin|Binary Label|\n",
            "+-----------+--------------------+-------------+------------------+------------+\n",
            "|     2/7/20| Tencent revealed...|       Europe|           Twitter|           0|\n",
            "|     2/7/20| Taking chlorine ...|       Europe|           Website|           0|\n",
            "|     2/7/20| This video shows...|        India|          Facebook|           0|\n",
            "|     2/7/20| The Asterix comi...|        India|           Twitter|           0|\n",
            "|     2/7/20| Chinese Presiden...|        India|          Facebook|           0|\n",
            "|     2/7/20| China seeks cour...|United States|                ab|           0|\n",
            "|     2/8/20| A video shows pe...|        India|           Twitter|           0|\n",
            "|     2/8/20| A video says wee...|        India| Twitter, WhatsApp|           0|\n",
            "|     2/8/20| Coronavirus has ...|        India|          Facebook|           0|\n",
            "|     2/8/20| In a photo of Pa...|        India|          Facebook|           0|\n",
            "|     2/8/20| Autopsy reveals ...|United States|                ab|           0|\n",
            "|     2/8/20|\" The new coronav...|United States|          Facebook|           0|\n",
            "|     2/9/20| Coronavirus is c...|       Europe| Facebook, Website|           0|\n",
            "|    2/10/20| Can cannabis cur...|        India|           Twitter|           0|\n",
            "|    2/10/20| A woman infected...|        India|          Facebook|           0|\n",
            "|    2/10/20| Garlic water can...|        India|          Facebook|           0|\n",
            "|    2/10/20| Coronavirus is f...|        India|          Facebook|           0|\n",
            "|    2/10/20| Bill Gates predi...|       Europe|          Facebook|           0|\n",
            "|    2/10/20| Bill Gates predi...|       Europe|          Facebook|           0|\n",
            "|    2/10/20| In 2012, a Faceb...|       Europe|          Facebook|           0|\n",
            "+-----------+--------------------+-------------+------------------+------------+\n",
            "only showing top 20 rows\n",
            "\n"
          ]
        }
      ]
    },
    {
      "cell_type": "code",
      "source": [
        "# Clean up DataFrames to match tables\n",
        "#pyspark\n",
        "from pyspark.sql.functions import to_date\n",
        "# Review DataFrame\n",
        "review_true = true.select([\"Date Posted\", \"Text\", \"Region\", \"Label\"])\n",
        "review_true.show()\n"
      ],
      "metadata": {
        "colab": {
          "base_uri": "https://localhost:8080/"
        },
        "outputId": "9cc1a8fc-29bc-4e96-89fb-ecce6a766590",
        "id": "sVRn7syximPS"
      },
      "execution_count": 52,
      "outputs": [
        {
          "output_type": "stream",
          "name": "stdout",
          "text": [
            "+--------------------+--------------------+----------+-----+\n",
            "|         Date Posted|                Text|    Region|Label|\n",
            "+--------------------+--------------------+----------+-----+\n",
            "|             2/11/20|Just in: Novel co...|     India|    1|\n",
            "|             2/12/20|WHO officially na...|      null| null|\n",
            "| https://www.ndtv...|                null|      null| null|\n",
            "|#CoronavirusOutbr...|                ndtv|      NDTV| null|\n",
            "|             2/12/20|\"The #UN #health ...|      null| null|\n",
            "|#coronavirus http...|           the_hindu| The Hindu| null|\n",
            "|             2/14/20|The Indian Embass...|      null| null|\n",
            "| https://www.indi...|          indiatoday|IndiaToday| null|\n",
            "|             2/15/20|Ground Zero | How...|      null| null|\n",
            "|#coronavirus #Ker...|           the_hindu| The Hindu| null|\n",
            "|             2/15/20|An elderly Chines...|      null| null|\n",
            "| https://trib.al/...|           the_hindu| The Hindu| null|\n",
            "|             2/16/20|The total number ...|      null| null|\n",
            "| https://www.indi...|          indiatoday|IndiaToday| null|\n",
            "|             2/16/20|COVID-19 coronavi...|     India|    1|\n",
            "|             2/17/20|Covid-19 Updates:...|      null| null|\n",
            "|#DIU pic.twitter....|          indiatoday|IndiaToday| null|\n",
            "|             2/18/20|#Coronavirus | #L...|      null| null|\n",
            "| http://bit.ly/37...|           the_hindu| The Hindu| null|\n",
            "|             2/19/20|Serum Institute o...|      null| null|\n",
            "+--------------------+--------------------+----------+-----+\n",
            "only showing top 20 rows\n",
            "\n"
          ]
        }
      ]
    },
    {
      "cell_type": "code",
      "source": [
        "review_true.printSchema()\n",
        "\n",
        "\n",
        "\n",
        "review_true.na.drop(\"all\").show= False\n"
      ],
      "metadata": {
        "colab": {
          "base_uri": "https://localhost:8080/"
        },
        "id": "bCXv6FzeQ3Z2",
        "outputId": "b587d9a8-fbc4-4f96-99af-9cb6cb3ff866"
      },
      "execution_count": 53,
      "outputs": [
        {
          "output_type": "stream",
          "name": "stdout",
          "text": [
            "root\n",
            " |-- Date Posted: string (nullable = true)\n",
            " |-- Text: string (nullable = true)\n",
            " |-- Region: string (nullable = true)\n",
            " |-- Label: string (nullable = true)\n",
            "\n"
          ]
        }
      ]
    },
    {
      "cell_type": "code",
      "source": [
        "review_true.show()"
      ],
      "metadata": {
        "colab": {
          "base_uri": "https://localhost:8080/"
        },
        "id": "Wm5441SMW7SA",
        "outputId": "09cf073f-c2ec-4b33-d5f3-a2e014420d90"
      },
      "execution_count": 54,
      "outputs": [
        {
          "output_type": "stream",
          "name": "stdout",
          "text": [
            "+--------------------+--------------------+----------+-----+\n",
            "|         Date Posted|                Text|    Region|Label|\n",
            "+--------------------+--------------------+----------+-----+\n",
            "|             2/11/20|Just in: Novel co...|     India|    1|\n",
            "|             2/12/20|WHO officially na...|      null| null|\n",
            "| https://www.ndtv...|                null|      null| null|\n",
            "|#CoronavirusOutbr...|                ndtv|      NDTV| null|\n",
            "|             2/12/20|\"The #UN #health ...|      null| null|\n",
            "|#coronavirus http...|           the_hindu| The Hindu| null|\n",
            "|             2/14/20|The Indian Embass...|      null| null|\n",
            "| https://www.indi...|          indiatoday|IndiaToday| null|\n",
            "|             2/15/20|Ground Zero | How...|      null| null|\n",
            "|#coronavirus #Ker...|           the_hindu| The Hindu| null|\n",
            "|             2/15/20|An elderly Chines...|      null| null|\n",
            "| https://trib.al/...|           the_hindu| The Hindu| null|\n",
            "|             2/16/20|The total number ...|      null| null|\n",
            "| https://www.indi...|          indiatoday|IndiaToday| null|\n",
            "|             2/16/20|COVID-19 coronavi...|     India|    1|\n",
            "|             2/17/20|Covid-19 Updates:...|      null| null|\n",
            "|#DIU pic.twitter....|          indiatoday|IndiaToday| null|\n",
            "|             2/18/20|#Coronavirus | #L...|      null| null|\n",
            "| http://bit.ly/37...|           the_hindu| The Hindu| null|\n",
            "|             2/19/20|Serum Institute o...|      null| null|\n",
            "+--------------------+--------------------+----------+-----+\n",
            "only showing top 20 rows\n",
            "\n"
          ]
        }
      ]
    },
    {
      "cell_type": "code",
      "source": [
        "#Count rows true\n",
        "true.count()\n"
      ],
      "metadata": {
        "colab": {
          "base_uri": "https://localhost:8080/"
        },
        "outputId": "3094bb9a-3f3c-4685-fd94-fc2f86c6d95f",
        "id": "v0JDK2enQbZn"
      },
      "execution_count": 55,
      "outputs": [
        {
          "output_type": "execute_result",
          "data": {
            "text/plain": [
              "6004"
            ]
          },
          "metadata": {},
          "execution_count": 55
        }
      ]
    },
    {
      "cell_type": "code",
      "source": [
        "# Products DataFrame\n",
        "publisher_df = true.select([\"Username\", \"Publisher\"])\n",
        "publisher_df.show()"
      ],
      "metadata": {
        "colab": {
          "base_uri": "https://localhost:8080/"
        },
        "id": "GSqJgNK5qMhp",
        "outputId": "2a0723d5-a745-4a57-a32e-0eaa7e215f0d"
      },
      "execution_count": 56,
      "outputs": [
        {
          "output_type": "stream",
          "name": "stdout",
          "text": [
            "+----------+----------+\n",
            "|  Username| Publisher|\n",
            "+----------+----------+\n",
            "| the_hindu| The Hindu|\n",
            "|      null|      null|\n",
            "|      null|      null|\n",
            "|         1|      null|\n",
            "|      null|      null|\n",
            "|         1|      null|\n",
            "|      null|      null|\n",
            "|         1|      null|\n",
            "|      null|      null|\n",
            "|         1|      null|\n",
            "|      null|      null|\n",
            "|         1|      null|\n",
            "|      null|      null|\n",
            "|         1|      null|\n",
            "|indiatoday|IndiaToday|\n",
            "|      null|      null|\n",
            "|         1|      null|\n",
            "|      null|      null|\n",
            "|         1|      null|\n",
            "|      null|      null|\n",
            "+----------+----------+\n",
            "only showing top 20 rows\n",
            "\n"
          ]
        }
      ]
    },
    {
      "cell_type": "code",
      "source": [
        "link_df = true.select([\"Link\", \"Text\"])\n",
        "link_df.show()"
      ],
      "metadata": {
        "colab": {
          "base_uri": "https://localhost:8080/"
        },
        "id": "Ig3G64SKkwQb",
        "outputId": "9ec0d3ad-9e2b-40f4-fd20-e36036408d38"
      },
      "execution_count": 57,
      "outputs": [
        {
          "output_type": "stream",
          "name": "stdout",
          "text": [
            "+--------------------+--------------------+\n",
            "|                Link|                Text|\n",
            "+--------------------+--------------------+\n",
            "|https://twitter.c...|Just in: Novel co...|\n",
            "|https://twitter.c...|WHO officially na...|\n",
            "|                null|                null|\n",
            "|               India|                ndtv|\n",
            "|https://twitter.c...|\"The #UN #health ...|\n",
            "|               India|           the_hindu|\n",
            "|https://twitter.c...|The Indian Embass...|\n",
            "|               India|          indiatoday|\n",
            "|https://twitter.c...|Ground Zero | How...|\n",
            "|               India|           the_hindu|\n",
            "|https://twitter.c...|An elderly Chines...|\n",
            "|               India|           the_hindu|\n",
            "|https://twitter.c...|The total number ...|\n",
            "|               India|          indiatoday|\n",
            "|https://twitter.c...|COVID-19 coronavi...|\n",
            "|https://twitter.c...|Covid-19 Updates:...|\n",
            "|               India|          indiatoday|\n",
            "|https://twitter.c...|#Coronavirus | #L...|\n",
            "|               India|           the_hindu|\n",
            "|https://twitter.c...|Serum Institute o...|\n",
            "+--------------------+--------------------+\n",
            "only showing top 20 rows\n",
            "\n"
          ]
        }
      ]
    },
    {
      "cell_type": "code",
      "source": [
        "# Reviews DataFrame\n",
        "country_df = fake.select([\"Region\", \"Country\"])\n",
        "country_df.show()"
      ],
      "metadata": {
        "colab": {
          "base_uri": "https://localhost:8080/"
        },
        "id": "f-zDCPZEqMjk",
        "outputId": "9df7c485-bb7b-432f-fdc0-7992c2fcd8ba"
      },
      "execution_count": 58,
      "outputs": [
        {
          "output_type": "stream",
          "name": "stdout",
          "text": [
            "+-------------+--------------+\n",
            "|       Region|       Country|\n",
            "+-------------+--------------+\n",
            "|       Europe|        France|\n",
            "|       Europe|       Germany|\n",
            "|        India|         India|\n",
            "|        India|         India|\n",
            "|        India|         India|\n",
            "|United States| United States|\n",
            "|        India|         India|\n",
            "|        India|         India|\n",
            "|        India|         India|\n",
            "|        India|         India|\n",
            "|United States| United States|\n",
            "|United States| United States|\n",
            "|       Europe|     Lithuania|\n",
            "|        India|         India|\n",
            "|        India|         India|\n",
            "|        India|         India|\n",
            "|        India|         India|\n",
            "|       Europe|         Italy|\n",
            "|       Europe|         Italy|\n",
            "|       Europe|         Italy|\n",
            "+-------------+--------------+\n",
            "only showing top 20 rows\n",
            "\n"
          ]
        }
      ]
    },
    {
      "cell_type": "code",
      "source": [
        "# Reviews DataFrame\n",
        "text_df = fake.select([\"Text\", \"Explanation\"])\n",
        "text_df.show()"
      ],
      "metadata": {
        "colab": {
          "base_uri": "https://localhost:8080/"
        },
        "outputId": "a263d15f-1d0f-42d9-8523-4d8559e61117",
        "id": "qzrdvyvImSLx"
      },
      "execution_count": 59,
      "outputs": [
        {
          "output_type": "stream",
          "name": "stdout",
          "text": [
            "+--------------------+--------------------+\n",
            "|                Text|         Explanation|\n",
            "+--------------------+--------------------+\n",
            "| Tencent revealed...| The screenshot i...|\n",
            "| Taking chlorine ...| Chlorine dioxide...|\n",
            "| This video shows...| A video shows ba...|\n",
            "| The Asterix comi...| Coronavirus has ...|\n",
            "| Chinese Presiden...| Chinese Presiden...|\n",
            "| China seeks cour...| There is no evid...|\n",
            "| A video shows pe...| The video shows ...|\n",
            "| A video says wee...| The news clip wa...|\n",
            "| Coronavirus has ...|  The claim is fake.|\n",
            "| In a photo of Pa...| The image was ed...|\n",
            "| Autopsy reveals ...| There is no sour...|\n",
            "|\" The new coronav...| There is no evid...|\n",
            "| Coronavirus is c...| There is no proo...|\n",
            "| Can cannabis cur...| There is no gove...|\n",
            "| A woman infected...| The woman in the...|\n",
            "| Garlic water can...| Garlic may have ...|\n",
            "| Coronavirus is f...| There is no evid...|\n",
            "| Bill Gates predi...| Bill Gates didn'...|\n",
            "| Bill Gates predi...| Bill Gates did n...|\n",
            "| In 2012, a Faceb...| The Facebook sta...|\n",
            "+--------------------+--------------------+\n",
            "only showing top 20 rows\n",
            "\n"
          ]
        }
      ]
    },
    {
      "cell_type": "code",
      "source": [
        "# Push to AWS RDS instance.\n",
        "mode = \"append\"\n",
        "jdbc_url = \"jdbc:postgresql://covid19.cnssxwecu01b.eu-west-2.rds.amazonaws.com:5432/postgres\"\n",
        "config = {\"user\":\"postgres\", \"password\": \"Forest22\", \"driver\":\"org.postgresql.Driver\"}"
      ],
      "metadata": {
        "id": "s1L3278eDL2g"
      },
      "execution_count": 60,
      "outputs": []
    },
    {
      "cell_type": "code",
      "source": [
        "# Write publisher_df to table in RDS\n",
        "publisher_df.write.jdbc(url=jdbc_url, table='publisher', mode=mode, properties=config)"
      ],
      "metadata": {
        "id": "BlrFkpL1rE5W"
      },
      "execution_count": 61,
      "outputs": []
    },
    {
      "cell_type": "code",
      "source": [
        "# Write link_df to table in RDS\n",
        "link_df.write.jdbc(url=jdbc_url, table='link', mode=mode, properties=config)"
      ],
      "metadata": {
        "id": "grzVBVnzrFCg"
      },
      "execution_count": 62,
      "outputs": []
    },
    {
      "cell_type": "code",
      "source": [
        "# Write country_df to table in RDS\n",
        "country_df.write.jdbc(url=jdbc_url, table='country', mode=mode, properties=config)"
      ],
      "metadata": {
        "id": "McjqEmV0rFK_"
      },
      "execution_count": 63,
      "outputs": []
    },
    {
      "cell_type": "code",
      "source": [
        "# Write text_df to table in RDS\n",
        "text_df.write.jdbc(url=jdbc_url, table='text', mode=mode, properties=config)"
      ],
      "metadata": {
        "id": "1YZWNN6rrFTe"
      },
      "execution_count": 64,
      "outputs": []
    },
    {
      "cell_type": "code",
      "source": [
        ""
      ],
      "metadata": {
        "id": "0m4qJSncqMv1"
      },
      "execution_count": null,
      "outputs": []
    }
  ]
}